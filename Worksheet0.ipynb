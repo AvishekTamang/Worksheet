{
  "nbformat": 4,
  "nbformat_minor": 0,
  "metadata": {
    "colab": {
      "provenance": []
    },
    "kernelspec": {
      "name": "python3",
      "display_name": "Python 3"
    },
    "language_info": {
      "name": "python"
    }
  },
  "cells": [
    {
      "cell_type": "markdown",
      "source": [
        "# Task1"
      ],
      "metadata": {
        "id": "DoO90QdaarSA"
      }
    },
    {
      "cell_type": "code",
      "source": [
        "def convert_length(value, unit_from, unit_to):\n",
        "    \"\"\"\n",
        "    Convert length between meters and feet.\n",
        "\n",
        "    Parameters:\n",
        "        value (float): The numerical value to be converted.\n",
        "        unit_from (str): The unit of the input value ('m' or 'ft').\n",
        "        unit_to (str): The desired unit for the output value ('m' or 'ft').\n",
        "\n",
        "    Returns:\n",
        "        float: The converted value.\n",
        "    \"\"\"\n",
        "    if unit_from == \"m\" and unit_to == \"ft\":\n",
        "        return value * 3.28084\n",
        "    elif unit_from == \"ft\" and unit_to == \"m\":\n",
        "        return value / 3.28084\n",
        "    else:\n",
        "        raise ValueError(\"Invalid length conversion units.\")\n",
        "\n",
        "def convert_weight(value, unit_from, unit_to):\n",
        "    \"\"\"\n",
        "    Convert weight between kilograms and pounds.\n",
        "\n",
        "    Parameters:\n",
        "        value (float): The numerical value to be converted.\n",
        "        unit_from (str): The unit of the input value ('kg' or 'lbs').\n",
        "        unit_to (str): The desired unit for the output value ('kg' or 'lbs').\n",
        "\n",
        "    Returns:\n",
        "        float: The converted value.\n",
        "    \"\"\"\n",
        "    if unit_from == \"kg\" and unit_to == \"lbs\":\n",
        "        return value * 2.20462\n",
        "    elif unit_from == \"lbs\" and unit_to == \"kg\":\n",
        "        return value / 2.20462\n",
        "    else:\n",
        "        raise ValueError(\"Invalid weight conversion units.\")\n",
        "\n",
        "def convert_volume(value, unit_from, unit_to):\n",
        "    \"\"\"\n",
        "    Convert volume between liters and gallons.\n",
        "\n",
        "    Parameters:\n",
        "        value (float): The numerical value to be converted.\n",
        "        unit_from (str): The unit of the input value ('L' or 'gal').\n",
        "        unit_to (str): The desired unit for the output value ('L' or 'gal').\n",
        "\n",
        "    Returns:\n",
        "        float: The converted value.\n",
        "    \"\"\"\n",
        "    if unit_from == \"L\" and unit_to == \"gal\":\n",
        "        return value * 0.264172\n",
        "    elif unit_from == \"gal\" and unit_to == \"L\":\n",
        "        return value / 0.264172\n",
        "    else:\n",
        "        raise ValueError(\"Invalid volume conversion units.\")\n",
        "\n",
        "def main():\n",
        "    print(\"Unit Conversion Program\")\n",
        "    print(\"Choose a type of conversion:\")\n",
        "    print(\"1. Length (meters to feet / feet to meters)\")\n",
        "    print(\"2. Weight (kilograms to pounds / pounds to kilograms)\")\n",
        "    print(\"3. Volume (liters to gallons / gallons to liters)\")\n",
        "\n",
        "    try:\n",
        "        choice = int(input(\"Enter the number of your choice: \"))\n",
        "\n",
        "        if choice == 1:\n",
        "            print(\"Length Conversion:\")\n",
        "            unit_from = input(\"Convert from (m/ft): \").strip().lower()\n",
        "            unit_to = \"ft\" if unit_from == \"m\" else \"m\"\n",
        "            value_input = input(f\"Enter value in {unit_from}: \").replace(',', '.')\n",
        "            value = float(value_input)\n",
        "            result = convert_length(value, unit_from, unit_to)\n",
        "            print(f\"{value} {unit_from} = {result:.2f} {unit_to}\")\n",
        "\n",
        "        elif choice == 2:\n",
        "            print(\"Weight Conversion:\")\n",
        "            unit_from = input(\"Convert from (kg/lbs): \").strip().lower()\n",
        "            unit_to = \"lbs\" if unit_from == \"kg\" else \"kg\"\n",
        "            value_input = input(f\"Enter value in {unit_from}: \").replace(',', '.')\n",
        "            value = float(value_input)\n",
        "            result = convert_weight(value, unit_from, unit_to)\n",
        "            print(f\"{value} {unit_from} = {result:.2f} {unit_to}\")\n",
        "\n",
        "        elif choice == 3:\n",
        "            print(\"Volume Conversion:\")\n",
        "            unit_from = input(\"Convert from (L/gal): \").strip().lower()\n",
        "            unit_from = unit_from.upper()\n",
        "            unit_to = \"gal\" if unit_from == \"L\" else \"L\"\n",
        "            value_input = input(f\"Enter value in {unit_from}: \").replace(',', '.')\n",
        "            value = float(value_input)\n",
        "            result = convert_volume(value, unit_from, unit_to)\n",
        "            print(f\"{value} {unit_from} = {result:.2f} {unit_to}\")\n",
        "\n",
        "        else:\n",
        "            print(\"Invalid choice. Please select a valid option.\")\n",
        "\n",
        "    except ValueError:\n",
        "        print(\"Invalid input. Please enter a numeric value using digits and a decimal point (e.g., 3.5).\")\n",
        "\n",
        "if __name__ == \"__main__\":\n",
        "    main()\n"
      ],
      "metadata": {
        "colab": {
          "base_uri": "https://localhost:8080/"
        },
        "id": "TtvMnWi5auON",
        "outputId": "31095239-8ea1-4870-fa38-cf045172a93b"
      },
      "execution_count": null,
      "outputs": [
        {
          "output_type": "stream",
          "name": "stdout",
          "text": [
            "Unit Conversion Program\n",
            "Choose a type of conversion:\n",
            "1. Length (meters to feet / feet to meters)\n",
            "2. Weight (kilograms to pounds / pounds to kilograms)\n",
            "3. Volume (liters to gallons / gallons to liters)\n",
            "Enter the number of your choice: 2\n",
            "Weight Conversion:\n",
            "Convert from (kg/lbs): kg\n",
            "Enter value in kg: 10\n",
            "10.0 kg = 22.05 lbs\n"
          ]
        }
      ]
    },
    {
      "cell_type": "markdown",
      "source": [
        "# Task2"
      ],
      "metadata": {
        "id": "Clw4-SgCbYFb"
      }
    },
    {
      "cell_type": "code",
      "source": [
        "def calculate_sum(numbers):\n",
        "    \"\"\"\n",
        "    Calculate the sum of a list of numbers.\n",
        "\n",
        "    Parameters:\n",
        "        numbers (list of float): The list of numbers.\n",
        "\n",
        "    Returns:\n",
        "        float: The sum of the numbers.\n",
        "    \"\"\"\n",
        "    return sum(numbers)\n",
        "\n",
        "def calculate_average(numbers):\n",
        "    \"\"\"\n",
        "    Calculate the average of a list of numbers.\n",
        "\n",
        "    Parameters:\n",
        "        numbers (list of float): The list of numbers.\n",
        "\n",
        "    Returns:\n",
        "        float: The average of the numbers.\n",
        "    \"\"\"\n",
        "    if len(numbers) == 0:\n",
        "        raise ValueError(\"Cannot calculate average of an empty list.\")\n",
        "    return sum(numbers) / len(numbers)\n",
        "\n",
        "def find_maximum(numbers):\n",
        "    \"\"\"\n",
        "    Find the maximum number in a list.\n",
        "\n",
        "    Parameters:\n",
        "        numbers (list of float): The list of numbers.\n",
        "\n",
        "    Returns:\n",
        "        float: The maximum number.\n",
        "    \"\"\"\n",
        "    if len(numbers) == 0:\n",
        "        raise ValueError(\"Cannot find the maximum of an empty list.\")\n",
        "    return max(numbers)\n",
        "\n",
        "def find_minimum(numbers):\n",
        "    \"\"\"\n",
        "    Find the minimum number in a list.\n",
        "\n",
        "    Parameters:\n",
        "        numbers (list of float): The list of numbers.\n",
        "\n",
        "    Returns:\n",
        "        float: The minimum number.\n",
        "    \"\"\"\n",
        "    if len(numbers) == 0:\n",
        "        raise ValueError(\"Cannot find the minimum of an empty list.\")\n",
        "    return min(numbers)\n",
        "\n",
        "def main():\n",
        "    print(\"Mathematical Operations on a List of Numbers\")\n",
        "    print(\"Choose an operation:\")\n",
        "    print(\"1. Sum of the numbers\")\n",
        "    print(\"2. Average of the numbers\")\n",
        "    print(\"3. Maximum number\")\n",
        "    print(\"4. Minimum number\")\n",
        "\n",
        "    try:\n",
        "        choice = int(input(\"Enter the number of your choice: \"))\n",
        "\n",
        "        if choice not in [1, 2, 3, 4]:\n",
        "            print(\"Invalid choice. Please select a valid option.\")\n",
        "            return\n",
        "\n",
        "        # Get the list of numbers from the user\n",
        "        user_input = input(\"Enter a list of numbers (separated by spaces): \")\n",
        "        number_strings = user_input.split()\n",
        "        numbers = [float(num.replace(',', '.')) for num in number_strings]  # Handle commas and convert to float\n",
        "\n",
        "        if len(numbers) == 0:\n",
        "            print(\"The list is empty. Please enter at least one number.\")\n",
        "            return\n",
        "\n",
        "        # Perform the selected operation\n",
        "        if choice == 1:\n",
        "            result = calculate_sum(numbers)\n",
        "            print(f\"Sum of the numbers: {result}\")\n",
        "\n",
        "        elif choice == 2:\n",
        "            result = calculate_average(numbers)\n",
        "            print(f\"Average of the numbers: {result}\")\n",
        "\n",
        "        elif choice == 3:\n",
        "            result = find_maximum(numbers)\n",
        "            print(f\"Maximum number: {result}\")\n",
        "\n",
        "        elif choice == 4:\n",
        "            result = find_minimum(numbers)\n",
        "            print(f\"Minimum number: {result}\")\n",
        "\n",
        "    except ValueError:\n",
        "        print(\"Invalid input. Please enter numeric values separated by spaces.\")\n",
        "\n",
        "if __name__ == \"__main__\":\n",
        "    main()\n"
      ],
      "metadata": {
        "colab": {
          "base_uri": "https://localhost:8080/"
        },
        "id": "aSMrKaTtbaJf",
        "outputId": "953120c3-f0cc-4ff5-b330-9aff419dfbd7"
      },
      "execution_count": null,
      "outputs": [
        {
          "output_type": "stream",
          "name": "stdout",
          "text": [
            "Mathematical Operations on a List of Numbers\n",
            "Choose an operation:\n",
            "1. Sum of the numbers\n",
            "2. Average of the numbers\n",
            "3. Maximum number\n",
            "4. Minimum number\n",
            "Enter the number of your choice: 2\n",
            "Enter a list of numbers (separated by spaces): 3\n",
            "Average of the numbers: 3.0\n"
          ]
        }
      ]
    },
    {
      "cell_type": "markdown",
      "source": [
        "#4.2 Exercise on List Manipulation:\n"
      ],
      "metadata": {
        "id": "gOmyT3xkbqad"
      }
    },
    {
      "cell_type": "markdown",
      "source": [
        "1. Extract Every Other Element:\n",
        "Write a Python function that extracts every other element from a list, starting from the first element."
      ],
      "metadata": {
        "id": "jQSPUPgwbuXJ"
      }
    },
    {
      "cell_type": "code",
      "source": [
        "def extract_every_other(lst):\n",
        "    result = []\n",
        "    for i in range(0, len(lst), 2):\n",
        "        result.append(lst[i])\n",
        "    return result\n",
        "\n",
        "lst = [1, 3, 4, 2, 5, 6]\n",
        "result = extract_every_other(lst)\n",
        "print(result)\n"
      ],
      "metadata": {
        "colab": {
          "base_uri": "https://localhost:8080/"
        },
        "id": "xsnGMvnVbvbV",
        "outputId": "7e1a7a50-755f-498c-a728-726e70ea1a6b"
      },
      "execution_count": null,
      "outputs": [
        {
          "output_type": "stream",
          "name": "stdout",
          "text": [
            "[1, 4, 5]\n"
          ]
        }
      ]
    },
    {
      "cell_type": "markdown",
      "source": [
        "2. Slice a Sublist:\n",
        "Write a Python function that returns a sublist from a given list, starting from a specified index and\n",
        "ending at another specified index."
      ],
      "metadata": {
        "id": "-HAMC09Hb2d8"
      }
    },
    {
      "cell_type": "code",
      "source": [
        "def get_sublist(lst, start, end):\n",
        "    return lst[start:end+1]\n",
        "lst = [1, 2, 3, 4, 5, 6]\n",
        "result = get_sublist(lst, 1, 4)\n",
        "print(result)  # Output: [3, 4, 5]\n"
      ],
      "metadata": {
        "colab": {
          "base_uri": "https://localhost:8080/"
        },
        "id": "4buzycRLb3Xe",
        "outputId": "2883d9fe-43b3-4dcb-c505-5792bcc96864"
      },
      "execution_count": null,
      "outputs": [
        {
          "output_type": "stream",
          "name": "stdout",
          "text": [
            "[2, 3, 4, 5]\n"
          ]
        }
      ]
    },
    {
      "cell_type": "markdown",
      "source": [
        "3. Reverse a List Using Slicing:\n",
        "Write a Python function that reverses a list using slicing."
      ],
      "metadata": {
        "id": "MQd9oY8tcBPN"
      }
    },
    {
      "cell_type": "code",
      "source": [
        "def reverse_list(lst):\n",
        "    lst.reverse()\n",
        "    return lst\n",
        "\n",
        "lst = [1, 2, 3, 4, 5]\n",
        "result = reverse_list(lst)\n",
        "print(result)\n"
      ],
      "metadata": {
        "colab": {
          "base_uri": "https://localhost:8080/"
        },
        "id": "gbY5f2dVcCSd",
        "outputId": "28dbc1b7-d48d-47fb-c584-a1f8cd9b5258"
      },
      "execution_count": null,
      "outputs": [
        {
          "output_type": "stream",
          "name": "stdout",
          "text": [
            "[5, 4, 3, 2, 1]\n"
          ]
        }
      ]
    },
    {
      "cell_type": "markdown",
      "source": [
        "4. Remove the First and Last Elements:\n",
        "Write a Python function that removes the first and last elements of a list and returns the resulting\n",
        "sublist."
      ],
      "metadata": {
        "id": "5mSJKWpUcIs1"
      }
    },
    {
      "cell_type": "code",
      "source": [
        "def remove_first_last(lst):\n",
        "    result = []\n",
        "    for i in range(1, len(lst) - 1):\n",
        "        result.append(lst[i])\n",
        "    return result\n",
        "\n",
        "lst = [1, 2, 3, 4, 5]\n",
        "result = remove_first_last(lst)\n",
        "print(result)  # Output: [2, 3, 4]\n"
      ],
      "metadata": {
        "colab": {
          "base_uri": "https://localhost:8080/"
        },
        "id": "b4DyGZ73cJiR",
        "outputId": "566107d2-9d1c-49fc-e77d-76d52a6b40d4"
      },
      "execution_count": null,
      "outputs": [
        {
          "output_type": "stream",
          "name": "stdout",
          "text": [
            "[2, 3, 4]\n"
          ]
        }
      ]
    },
    {
      "cell_type": "markdown",
      "source": [
        "5. Get the First n Elements:\n",
        "Write a Python function that extracts the first n elements from a list."
      ],
      "metadata": {
        "id": "Z1oAemmWcQOh"
      }
    },
    {
      "cell_type": "code",
      "source": [
        "def get_first_n(lst, n):\n",
        "    return [lst[i] for i in range(n)]\n",
        "lst = [1, 2, 3, 4, 5]\n",
        "result = get_first_n(lst, 3)\n",
        "print(result)\n"
      ],
      "metadata": {
        "colab": {
          "base_uri": "https://localhost:8080/"
        },
        "id": "tYV_0p5GcRKd",
        "outputId": "c8d0d0cf-8509-44d1-b177-25c4e034d17e"
      },
      "execution_count": null,
      "outputs": [
        {
          "output_type": "stream",
          "name": "stdout",
          "text": [
            "[1, 2, 3]\n"
          ]
        }
      ]
    },
    {
      "cell_type": "markdown",
      "source": [
        "6. Extract Elements from the End:\n",
        "Write a Python function that extracts the last n elements of a list using slicing."
      ],
      "metadata": {
        "id": "9nEEe5mLcdCC"
      }
    },
    {
      "cell_type": "code",
      "source": [
        "def slice(lst, n):\n",
        "    return lst[len(lst) - n:]\n",
        "\n",
        "lst = [1, 2, 3, 9, 5]\n",
        "result = slice(lst, 2)\n",
        "print(result)"
      ],
      "metadata": {
        "colab": {
          "base_uri": "https://localhost:8080/"
        },
        "id": "T_ndM0dVceNP",
        "outputId": "42bf5526-c3b7-41ea-dd14-7654af0585f0"
      },
      "execution_count": null,
      "outputs": [
        {
          "output_type": "stream",
          "name": "stdout",
          "text": [
            "[9, 5]\n"
          ]
        }
      ]
    },
    {
      "cell_type": "markdown",
      "source": [
        "7. Extract Elements in Reverse Order:\n",
        "Write a Python function that extracts a list of elements in reverse order starting from the second-to-last\n",
        "element and skipping one element in between."
      ],
      "metadata": {
        "id": "yfd6hhaMcqHA"
      }
    },
    {
      "cell_type": "code",
      "source": [
        "def reverse_order(lst):\n",
        "    return lst[-2::-2]\n",
        "\n",
        "print(reverse_order([1, 2, 3, 4, 5, 6]))\n"
      ],
      "metadata": {
        "colab": {
          "base_uri": "https://localhost:8080/"
        },
        "id": "jtq4sr3tcq6y",
        "outputId": "99e983c6-2baa-4af0-8cca-bdf2f6c6b48b"
      },
      "execution_count": null,
      "outputs": [
        {
          "output_type": "stream",
          "name": "stdout",
          "text": [
            "[5, 3, 1]\n"
          ]
        }
      ]
    },
    {
      "cell_type": "markdown",
      "source": [
        "#4.3 Exercise on Nested List:\n",
        "1. Flatten a Nested List:\n",
        "Write a Python function that takes a nested list and flattens it into a single list, where all the elements\n",
        "are in a single dimension."
      ],
      "metadata": {
        "id": "N3a0FeSHcurX"
      }
    },
    {
      "cell_type": "code",
      "source": [
        "def flatten(lst):\n",
        "    return [item for sublist in lst for item in sublist]\n",
        "\n",
        "print(flatten([[1, 2], [3, 4], [5]]))\n",
        "\n"
      ],
      "metadata": {
        "colab": {
          "base_uri": "https://localhost:8080/"
        },
        "id": "UWR8dvP7cxnY",
        "outputId": "e4eabe4f-ac50-4c2c-eb32-81b87159f17e"
      },
      "execution_count": null,
      "outputs": [
        {
          "output_type": "stream",
          "name": "stdout",
          "text": [
            "[1, 2, 3, 4, 5]\n"
          ]
        }
      ]
    },
    {
      "cell_type": "markdown",
      "source": [
        "2. Accessing Nested List Elements:\n",
        "\n",
        "Write a Python function that extracts a specific element from a nested list given its indices.\n",
        "\n",
        "• Requirements:\n",
        "– Define a function access nested element(lst, indices) that takes a nested list lst and\n",
        "a list of indices indices, and returns the element at that position."
      ],
      "metadata": {
        "id": "8PDVGldDc1HN"
      }
    },
    {
      "cell_type": "code",
      "source": [
        "def access_nested_element(lst, indices):\n",
        "    element = lst\n",
        "    for index in indices:\n",
        "        element = element[index]\n",
        "    return element\n",
        "\n",
        "lst = [[1, 2, 3], [4, 5, 6], [7, 8, 9]]\n",
        "indices = [1, 2]\n",
        "\n",
        "print(access_nested_element(lst, indices))\n"
      ],
      "metadata": {
        "colab": {
          "base_uri": "https://localhost:8080/"
        },
        "id": "CjLLZZjYc4B6",
        "outputId": "5c500ecd-ba41-41b2-c69b-d16d0abbcaa2"
      },
      "execution_count": null,
      "outputs": [
        {
          "output_type": "stream",
          "name": "stdout",
          "text": [
            "6\n"
          ]
        }
      ]
    },
    {
      "cell_type": "markdown",
      "source": [
        "3. Sum of All Elements in a Nested List:\n",
        "\n",
        "Write a Python function that calculates the sum of all the numbers in a nested list (regardless of depth).\n",
        "• Requirements:\n",
        "– Define a function sum nested(lst) that takes a nested list lst and returns the sum of all\n",
        "the elements."
      ],
      "metadata": {
        "id": "SsUVuzQgc9sw"
      }
    },
    {
      "cell_type": "code",
      "source": [
        "def sum_nested(lst):\n",
        "    total = 0\n",
        "    for element in lst:\n",
        "        if isinstance(element, list):\n",
        "            total += sum_nested(element)\n",
        "        else:\n",
        "            total += element\n",
        "    return total\n",
        "\n",
        "lst = [[1, 2], [3, [4, 5]], 6]\n",
        "print(sum_nested(lst))"
      ],
      "metadata": {
        "colab": {
          "base_uri": "https://localhost:8080/"
        },
        "id": "uKEK_ddqc_TX",
        "outputId": "b86ed71f-4263-405f-cbb2-c449b3ee3292"
      },
      "execution_count": null,
      "outputs": [
        {
          "output_type": "stream",
          "name": "stdout",
          "text": [
            "21\n"
          ]
        }
      ]
    },
    {
      "cell_type": "markdown",
      "source": [
        "4. Remove Specific Element from a Nested List:\n",
        "\n",
        "Write a Python function that removes all occurrences of a specific element from a nested list.\n",
        "\n",
        "• Requirements:\n",
        "– Define a function remove element(lst, elem) that removes elem from lst and returns the\n",
        "modified list."
      ],
      "metadata": {
        "id": "iXAtoFx7dUq5"
      }
    },
    {
      "cell_type": "code",
      "source": [
        "def remove_element(lst, elem):\n",
        "    result = []\n",
        "    for item in lst:\n",
        "        if isinstance(item, list):\n",
        "            result.append(remove_element(item, elem))\n",
        "        elif item != elem:\n",
        "            result.append(item)\n",
        "    return result\n",
        "\n",
        "lst = [[1, 2, 3],  [4, 2], [5]]\n",
        "elem = 2\n",
        "print(remove_element(lst, elem))"
      ],
      "metadata": {
        "colab": {
          "base_uri": "https://localhost:8080/"
        },
        "id": "KLFOPf7ndXuK",
        "outputId": "ecdaa5f6-c428-4d43-90fd-ba09cb7069f1"
      },
      "execution_count": null,
      "outputs": [
        {
          "output_type": "stream",
          "name": "stdout",
          "text": [
            "[[1, 3], [4], [5]]\n"
          ]
        }
      ]
    },
    {
      "cell_type": "markdown",
      "source": [
        "5. Find the Maximum Element in a Nested List:\n",
        "Write a Python function that finds the maximum element in a nested list (regardless of depth).\n",
        "\n",
        "• Requirements:\n",
        "– Define a function find max(lst) that takes a nested list lst and returns the maximum\n",
        "element."
      ],
      "metadata": {
        "id": "aVkIa2hkdsGv"
      }
    },
    {
      "cell_type": "code",
      "source": [
        "def find_max(lst):\n",
        "    max_val = lst[0]\n",
        "    for item in lst:\n",
        "        if isinstance(item, list):\n",
        "            max_val = max(max_val, find_max(item))\n",
        "        else:\n",
        "            max_val = max(max_val, item)  #\n",
        "    return max_val\n",
        "\n",
        "\n",
        "nested_list = [1, [2, 3, [4, 5]], 6, [7, 8], 9]\n",
        "print(find_max(nested_list))\n"
      ],
      "metadata": {
        "colab": {
          "base_uri": "https://localhost:8080/"
        },
        "id": "ouMux58jdtRp",
        "outputId": "5c090705-3ee3-415b-e496-253829a9a40e"
      },
      "execution_count": null,
      "outputs": [
        {
          "output_type": "stream",
          "name": "stdout",
          "text": [
            "9\n"
          ]
        }
      ]
    },
    {
      "cell_type": "markdown",
      "source": [
        "6. Count Occurrences of an Element in a Nested List:\n",
        "Write a Python function that counts how many times a specific element appears in a nested list.\n",
        "\n",
        "• Requirements:\n",
        "– Define a function count occurrences(lst, elem) that counts the occurrences of elem in\n",
        "the nested list lst."
      ],
      "metadata": {
        "id": "uM-lHcDWdw2R"
      }
    },
    {
      "cell_type": "code",
      "source": [
        "def get_last_n(lst, n):\n",
        "    return lst[-n:]\n",
        "\n",
        "my_list = [1, 2, 3, 4, 5, 6, 7]\n",
        "print(get_last_n(my_list, 3))\n"
      ],
      "metadata": {
        "colab": {
          "base_uri": "https://localhost:8080/"
        },
        "id": "0yO3N55Jd0PN",
        "outputId": "e79da2e0-8fea-4041-f0c2-82ec9706599e"
      },
      "execution_count": null,
      "outputs": [
        {
          "output_type": "stream",
          "name": "stdout",
          "text": [
            "[5, 6, 7]\n"
          ]
        }
      ]
    },
    {
      "cell_type": "markdown",
      "source": [
        "7. Flatten a List of Lists of Lists:\n",
        "Write a Python function that flattens a list of lists of lists into a single list, regardless of the depth.\n",
        "\n",
        "• Requirements:\n",
        "– Define a function deep flatten(lst) that takes a deeply nested list lst and returns a single\n",
        "flattened list."
      ],
      "metadata": {
        "id": "736AMRhjd3IX"
      }
    },
    {
      "cell_type": "code",
      "source": [
        "def deep_flatten(lst):\n",
        "    flat_list = []\n",
        "    for item in lst:\n",
        "        if isinstance(item, list):\n",
        "            flat_list.extend(deep_flatten(item))\n",
        "        else:\n",
        "            flat_list.append(item)\n",
        "    return flat_list\n",
        "\n",
        "nested_list = [1, [2, [3, [4, 5]]], 6, [7, 8], 9]\n",
        "print(deep_flatten(nested_list))"
      ],
      "metadata": {
        "colab": {
          "base_uri": "https://localhost:8080/"
        },
        "id": "NkC2kra8d52b",
        "outputId": "b2a613f5-2a46-468b-81e4-337a7ab0c6d4"
      },
      "execution_count": null,
      "outputs": [
        {
          "output_type": "stream",
          "name": "stdout",
          "text": [
            "[1, 2, 3, 4, 5, 6, 7, 8, 9]\n"
          ]
        }
      ]
    },
    {
      "cell_type": "markdown",
      "source": [
        "8. Nested List Average:\n",
        "\n",
        "Write a Python function that calculates the average of all elements in a nested list.\n",
        "\n",
        "• Requirements:\n",
        "– Define a function average nested(lst) that takes a nested list lst and returns the average\n",
        "of all the elements."
      ],
      "metadata": {
        "id": "bKu6zUWmd8_3"
      }
    },
    {
      "cell_type": "code",
      "source": [
        "def average_nested(lst):\n",
        "    flattened_list = [item for sublist in lst for item in sublist]\n",
        "    return sum(flattened_list) / len(flattened_list) if flattened_list else 0\n",
        "\n",
        "nested_list = [[1, 2], [3, 4], [5, 6]]\n",
        "result = average_nested(nested_list)\n",
        "print(result)\n"
      ],
      "metadata": {
        "colab": {
          "base_uri": "https://localhost:8080/"
        },
        "id": "nvNGWcMFd_56",
        "outputId": "8b1b3a5e-fdd0-4bc3-e06d-ebb5b6db993e"
      },
      "execution_count": null,
      "outputs": [
        {
          "output_type": "stream",
          "name": "stdout",
          "text": [
            "3.5\n"
          ]
        }
      ]
    },
    {
      "cell_type": "markdown",
      "source": [
        "5 About a Numpy."
      ],
      "metadata": {
        "id": "t1koW047eCvi"
      }
    },
    {
      "cell_type": "markdown",
      "source": [
        "#Problem - 1: Array Creation:"
      ],
      "metadata": {
        "id": "O2Ag9PjVeGdi"
      }
    },
    {
      "cell_type": "markdown",
      "source": [
        "1. Initialize an empty array with size 2X2."
      ],
      "metadata": {
        "id": "dO20onFKeLO0"
      }
    },
    {
      "cell_type": "code",
      "source": [
        "import numpy as np"
      ],
      "metadata": {
        "id": "wJGu3uxgeOxb"
      },
      "execution_count": null,
      "outputs": []
    },
    {
      "cell_type": "code",
      "source": [
        "array = np.zeros((2, 2))\n",
        "print(array)\n"
      ],
      "metadata": {
        "colab": {
          "base_uri": "https://localhost:8080/"
        },
        "id": "tYfKTpwgeRnM",
        "outputId": "782fa6ec-7b53-498a-ce89-1a6591a76619"
      },
      "execution_count": null,
      "outputs": [
        {
          "output_type": "stream",
          "name": "stdout",
          "text": [
            "[[0. 0.]\n",
            " [0. 0.]]\n"
          ]
        }
      ]
    },
    {
      "cell_type": "markdown",
      "source": [
        "2. Initialize an all one array with size 4X2."
      ],
      "metadata": {
        "id": "Hyh99uy7eW3e"
      }
    },
    {
      "cell_type": "code",
      "source": [
        "array = np.ones((4, 2))\n",
        "print(array)"
      ],
      "metadata": {
        "colab": {
          "base_uri": "https://localhost:8080/"
        },
        "id": "nVOysjNOeXfb",
        "outputId": "62e44016-78ab-4287-c09a-2edd39eaebdd"
      },
      "execution_count": null,
      "outputs": [
        {
          "output_type": "stream",
          "name": "stdout",
          "text": [
            "[[1. 1.]\n",
            " [1. 1.]\n",
            " [1. 1.]\n",
            " [1. 1.]]\n"
          ]
        }
      ]
    },
    {
      "cell_type": "markdown",
      "source": [
        "3. Return a new array of given shape and type, filled with fill value.{Hint: np.full}"
      ],
      "metadata": {
        "id": "8HuVYUnKecJG"
      }
    },
    {
      "cell_type": "code",
      "source": [
        "shape = (2, 3)\n",
        "fillvalue = 7\n",
        "new_array = np.full(shape, fillvalue)\n",
        "print(new_array)"
      ],
      "metadata": {
        "colab": {
          "base_uri": "https://localhost:8080/"
        },
        "id": "Ei7NMsfhecz0",
        "outputId": "ceaf6872-a152-486a-dfb8-f71a19f5dd2d"
      },
      "execution_count": null,
      "outputs": [
        {
          "output_type": "stream",
          "name": "stdout",
          "text": [
            "[[7 7 7]\n",
            " [7 7 7]]\n"
          ]
        }
      ]
    },
    {
      "cell_type": "markdown",
      "source": [
        "4. Return a new array of zeros with same shape and type as a given array.{Hint: np.zeros like}"
      ],
      "metadata": {
        "id": "IV5Ud3SEeh4Q"
      }
    },
    {
      "cell_type": "code",
      "source": [
        "array = np.array([[1, 2], [3, 4]])\n",
        "new_array_zeros = np.zeros_like(array)\n",
        "print(new_array_zeros)"
      ],
      "metadata": {
        "colab": {
          "base_uri": "https://localhost:8080/"
        },
        "id": "FkSyY8I6eiqV",
        "outputId": "610a854a-c3e5-4c4b-c3e3-8a078c8835fa"
      },
      "execution_count": null,
      "outputs": [
        {
          "output_type": "stream",
          "name": "stdout",
          "text": [
            "[[0 0]\n",
            " [0 0]]\n"
          ]
        }
      ]
    },
    {
      "cell_type": "markdown",
      "source": [
        "5. Return a new array of ones with same shape and type as a given array.{Hint: np.ones like}"
      ],
      "metadata": {
        "id": "0pbGZkNWelXR"
      }
    },
    {
      "cell_type": "code",
      "source": [
        "array = np.array([[1, 2], [3, 4]])\n",
        "new_array_ones = np.ones_like(array)\n",
        "print(new_array_ones)"
      ],
      "metadata": {
        "colab": {
          "base_uri": "https://localhost:8080/"
        },
        "id": "oAPlwZ1meoJB",
        "outputId": "46521336-56ab-445a-aeac-ef0541406058"
      },
      "execution_count": null,
      "outputs": [
        {
          "output_type": "stream",
          "name": "stdout",
          "text": [
            "[[1 1]\n",
            " [1 1]]\n"
          ]
        }
      ]
    },
    {
      "cell_type": "markdown",
      "source": [
        "6. For an existing list new_list = [1,2,3,4] convert to an numpy array.{Hint: np.array()}"
      ],
      "metadata": {
        "id": "1-3l_tNzetPL"
      }
    },
    {
      "cell_type": "code",
      "source": [
        "new_list = [1, 2, 3, 4]\n",
        "array = np.array(new_list)\n",
        "print(array)"
      ],
      "metadata": {
        "colab": {
          "base_uri": "https://localhost:8080/"
        },
        "id": "mnW1TBjaeuGo",
        "outputId": "a5c5d9a1-d340-4f31-9fb9-c0945c35252a"
      },
      "execution_count": null,
      "outputs": [
        {
          "output_type": "stream",
          "name": "stdout",
          "text": [
            "[1 2 3 4]\n"
          ]
        }
      ]
    },
    {
      "cell_type": "markdown",
      "source": [
        "#Problem - 2: Array Manipulation: Numerical Ranges and Array indexing:"
      ],
      "metadata": {
        "id": "_j_9SZ6UeznW"
      }
    },
    {
      "cell_type": "markdown",
      "source": [
        "1. Create an array with values ranging from 10 to 49. {Hint:np.arrange()}."
      ],
      "metadata": {
        "id": "Qv1gEQgfe0qq"
      }
    },
    {
      "cell_type": "code",
      "source": [
        "import numpy as np"
      ],
      "metadata": {
        "id": "zl4mY2Bse37X"
      },
      "execution_count": null,
      "outputs": []
    },
    {
      "cell_type": "code",
      "source": [
        "array = np.arange(10, 50)\n",
        "print(array)"
      ],
      "metadata": {
        "colab": {
          "base_uri": "https://localhost:8080/"
        },
        "id": "2R9LLsJNe6u7",
        "outputId": "d07b8658-acc8-4a25-a729-ce870cef3b8a"
      },
      "execution_count": null,
      "outputs": [
        {
          "output_type": "stream",
          "name": "stdout",
          "text": [
            "[10 11 12 13 14 15 16 17 18 19 20 21 22 23 24 25 26 27 28 29 30 31 32 33\n",
            " 34 35 36 37 38 39 40 41 42 43 44 45 46 47 48 49]\n"
          ]
        }
      ]
    },
    {
      "cell_type": "markdown",
      "source": [
        "2. Create a 3X3 matrix with values ranging from 0 to 8.\n",
        "{Hint:look for np.reshape()}"
      ],
      "metadata": {
        "id": "99hix3MKe_Ox"
      }
    },
    {
      "cell_type": "code",
      "source": [
        "range = np.arange(9)\n",
        "matrix = range.reshape(3, 3)\n",
        "print(matrix)"
      ],
      "metadata": {
        "colab": {
          "base_uri": "https://localhost:8080/"
        },
        "id": "Xyi3fMZOe_-q",
        "outputId": "578c27b4-ac42-4df0-fd29-b7023ca0b5ae"
      },
      "execution_count": null,
      "outputs": [
        {
          "output_type": "stream",
          "name": "stdout",
          "text": [
            "[[0 1 2]\n",
            " [3 4 5]\n",
            " [6 7 8]]\n"
          ]
        }
      ]
    },
    {
      "cell_type": "markdown",
      "source": [
        "3. Create a 3X3 identity matrix.{Hint:np.eye()}"
      ],
      "metadata": {
        "id": "GPGp1i8wfCjc"
      }
    },
    {
      "cell_type": "code",
      "source": [
        "matrix = np.eye(3)\n",
        "print(matrix)"
      ],
      "metadata": {
        "colab": {
          "base_uri": "https://localhost:8080/"
        },
        "id": "AeAiNgSlfFoB",
        "outputId": "4a76888a-54b5-4afe-cab2-28cf1da71a76"
      },
      "execution_count": null,
      "outputs": [
        {
          "output_type": "stream",
          "name": "stdout",
          "text": [
            "[[1. 0. 0.]\n",
            " [0. 1. 0.]\n",
            " [0. 0. 1.]]\n"
          ]
        }
      ]
    },
    {
      "cell_type": "markdown",
      "source": [
        "4. Create a random array of size 30 and find the mean of the array.\n",
        "{Hint:check for np.random.random() and array.mean() function}"
      ],
      "metadata": {
        "id": "5V2YP-AbfI6j"
      }
    },
    {
      "cell_type": "code",
      "source": [
        "random_array = np.random.random(30)\n",
        "mean_value = random_array.mean()\n",
        "print(\"Random array:\", random_array)\n",
        "print(\"Mean of the array:\", mean_value)"
      ],
      "metadata": {
        "colab": {
          "base_uri": "https://localhost:8080/"
        },
        "id": "y_SFsTxHfL2c",
        "outputId": "3be00964-6367-4b07-97f8-ad5bd45abfc1"
      },
      "execution_count": null,
      "outputs": [
        {
          "output_type": "stream",
          "name": "stdout",
          "text": [
            "Random array: [0.73527719 0.89185176 0.48664058 0.3279717  0.69445843 0.2448796\n",
            " 0.37330369 0.16801037 0.80805122 0.36216309 0.00623159 0.05168325\n",
            " 0.42356335 0.23099862 0.53774909 0.54947985 0.70262906 0.5480484\n",
            " 0.44325954 0.80760481 0.6306106  0.916643   0.72783847 0.63252433\n",
            " 0.6237199  0.84182681 0.05272401 0.80271993 0.37198424 0.44275546]\n",
            "Mean of the array: 0.5145733970664669\n"
          ]
        }
      ]
    },
    {
      "cell_type": "markdown",
      "source": [
        "5. Create a 10X10 array with random values and find the minimum and maximum values."
      ],
      "metadata": {
        "id": "TtDZh1gEfOwo"
      }
    },
    {
      "cell_type": "code",
      "source": [
        "random_array = np.random.random((10, 10))\n",
        "min_value = random_array.min()\n",
        "max_value = random_array.max()\n",
        "print(\"Random 10x10 array:\\n\", random_array)\n",
        "print(\"Minimum value:\", min_value)\n",
        "print(\"Maximum value:\", max_value)"
      ],
      "metadata": {
        "colab": {
          "base_uri": "https://localhost:8080/"
        },
        "id": "9YeTv_1AfRHg",
        "outputId": "24c9b492-a4e2-4466-e900-f3b5bd6759d1"
      },
      "execution_count": null,
      "outputs": [
        {
          "output_type": "stream",
          "name": "stdout",
          "text": [
            "Random 10x10 array:\n",
            " [[0.65611107 0.73525218 0.41573548 0.91802867 0.30206965 0.84741723\n",
            "  0.5859715  0.29970337 0.61754584 0.37690211]\n",
            " [0.44943753 0.88983211 0.04469417 0.39566033 0.28356858 0.10034464\n",
            "  0.99514429 0.1542713  0.10045842 0.22903151]\n",
            " [0.96792146 0.72341852 0.74464805 0.86490865 0.75174964 0.14783618\n",
            "  0.28453828 0.2787347  0.01676487 0.91758485]\n",
            " [0.69015281 0.49281404 0.24820909 0.03285476 0.01771667 0.94218654\n",
            "  0.98693029 0.33908818 0.35975471 0.60762561]\n",
            " [0.64586009 0.88036849 0.4567175  0.24174438 0.37381228 0.10851086\n",
            "  0.91084893 0.50573266 0.02996422 0.72306815]\n",
            " [0.89792948 0.32674393 0.5617151  0.01433235 0.13096194 0.90183667\n",
            "  0.6601114  0.52055432 0.0567739  0.10557942]\n",
            " [0.97525014 0.07493481 0.6315482  0.32496475 0.65858969 0.45789326\n",
            "  0.14566212 0.9150146  0.77555019 0.54314683]\n",
            " [0.98310849 0.60590161 0.72522054 0.8187395  0.2929969  0.45498362\n",
            "  0.59313015 0.10212342 0.94972666 0.22621138]\n",
            " [0.11990651 0.83872097 0.29197152 0.71619386 0.16894946 0.28260936\n",
            "  0.05272289 0.37844549 0.23573555 0.07378877]\n",
            " [0.58107924 0.31540923 0.29243628 0.18474902 0.13535352 0.87616064\n",
            "  0.7047752  0.03010197 0.24058084 0.9802146 ]]\n",
            "Minimum value: 0.014332346132297058\n",
            "Maximum value: 0.995144291891671\n"
          ]
        }
      ]
    },
    {
      "cell_type": "markdown",
      "source": [
        "6. Create a zero array of size 10 and replace 5th element with 1.\n"
      ],
      "metadata": {
        "id": "1Elawq2PfUeP"
      }
    },
    {
      "cell_type": "code",
      "source": [
        "z_array = np.zeros(10)\n",
        "z_array[4] = 1\n",
        "print(z_array)"
      ],
      "metadata": {
        "colab": {
          "base_uri": "https://localhost:8080/"
        },
        "id": "B_1FFVQbfZPz",
        "outputId": "e8fe86f2-de47-4add-bba9-6c43687c2a40"
      },
      "execution_count": null,
      "outputs": [
        {
          "output_type": "stream",
          "name": "stdout",
          "text": [
            "[0. 0. 0. 0. 1. 0. 0. 0. 0. 0.]\n"
          ]
        }
      ]
    },
    {
      "cell_type": "markdown",
      "source": [
        "7. Reverse an array arr = [1,2,0,0,4,0].\n"
      ],
      "metadata": {
        "id": "dr9tmVzUfd_L"
      }
    },
    {
      "cell_type": "code",
      "source": [
        "arr = [1, 2, 0, 0, 4, 0]\n",
        "reversed_arr = arr[::-1]\n",
        "print(reversed_arr)\n"
      ],
      "metadata": {
        "colab": {
          "base_uri": "https://localhost:8080/"
        },
        "id": "9fCmVnVife0c",
        "outputId": "205650b2-f9da-415c-b209-141392d2c53a"
      },
      "execution_count": null,
      "outputs": [
        {
          "output_type": "stream",
          "name": "stdout",
          "text": [
            "[0, 4, 0, 0, 2, 1]\n"
          ]
        }
      ]
    },
    {
      "cell_type": "markdown",
      "source": [
        "8. Create a 2d array with 1 on border and 0 inside.\n"
      ],
      "metadata": {
        "id": "acCQDCcJfkJp"
      }
    },
    {
      "cell_type": "code",
      "source": [
        "rows, cols = 5, 5\n",
        "array = np.ones((rows, cols))\n",
        "array[1:-1, 1:-1] = 0\n",
        "print(array)"
      ],
      "metadata": {
        "colab": {
          "base_uri": "https://localhost:8080/"
        },
        "id": "P_rabS58flLi",
        "outputId": "0d10d21f-5ea4-416d-ab3f-485b975d35df"
      },
      "execution_count": null,
      "outputs": [
        {
          "output_type": "stream",
          "name": "stdout",
          "text": [
            "[[1. 1. 1. 1. 1.]\n",
            " [1. 0. 0. 0. 1.]\n",
            " [1. 0. 0. 0. 1.]\n",
            " [1. 0. 0. 0. 1.]\n",
            " [1. 1. 1. 1. 1.]]\n"
          ]
        }
      ]
    },
    {
      "cell_type": "markdown",
      "source": [
        "\n",
        "9. Create a 8X8 matrix and fill it with a checkerboard pattern."
      ],
      "metadata": {
        "id": "D9CTTAHSfoO_"
      }
    },
    {
      "cell_type": "code",
      "source": [
        "checkerboard = np.zeros((8, 8))\n",
        "checkerboard[1::2, ::2] = 1\n",
        "checkerboard[::2, 1::2] = 1\n",
        "print(checkerboard)"
      ],
      "metadata": {
        "colab": {
          "base_uri": "https://localhost:8080/"
        },
        "id": "POWZJ6DefrzX",
        "outputId": "ff41bfce-fce9-4b6c-822b-7885ea024517"
      },
      "execution_count": null,
      "outputs": [
        {
          "output_type": "stream",
          "name": "stdout",
          "text": [
            "[[0. 1. 0. 1. 0. 1. 0. 1.]\n",
            " [1. 0. 1. 0. 1. 0. 1. 0.]\n",
            " [0. 1. 0. 1. 0. 1. 0. 1.]\n",
            " [1. 0. 1. 0. 1. 0. 1. 0.]\n",
            " [0. 1. 0. 1. 0. 1. 0. 1.]\n",
            " [1. 0. 1. 0. 1. 0. 1. 0.]\n",
            " [0. 1. 0. 1. 0. 1. 0. 1.]\n",
            " [1. 0. 1. 0. 1. 0. 1. 0.]]\n"
          ]
        }
      ]
    },
    {
      "cell_type": "markdown",
      "source": [
        "#Problem - 3: Array Operations:"
      ],
      "metadata": {
        "id": "kqxEm9Szfwsq"
      }
    },
    {
      "cell_type": "markdown",
      "source": [
        "For the following arrays:\n",
        "\n",
        "x = np.array([[1,2],[3,5]]) and y = np.array([[5,6],[7,8]]);\n",
        "\n",
        "v = np.array([9,10]) and w = np.array([11,12]);\n",
        "\n",
        "Complete all the task using numpy:"
      ],
      "metadata": {
        "id": "gY7SY2wvf1lF"
      }
    },
    {
      "cell_type": "markdown",
      "source": [
        "1. Add the two array."
      ],
      "metadata": {
        "id": "LE5auukGgGIS"
      }
    },
    {
      "cell_type": "code",
      "source": [
        "import numpy as np\n",
        "x = np.array([[1, 2], [3, 5]])\n",
        "y = np.array([[5, 6], [7, 8]])\n",
        "v = np.array([9, 10])\n",
        "w = np.array([11, 12])\n"
      ],
      "metadata": {
        "id": "85F87uAhgG_f"
      },
      "execution_count": null,
      "outputs": []
    },
    {
      "cell_type": "code",
      "source": [
        "add_array = x + y\n",
        "print(\"Addition of x and y:\\n\", add_array)\n"
      ],
      "metadata": {
        "colab": {
          "base_uri": "https://localhost:8080/"
        },
        "id": "ZPCSU9g7gPNg",
        "outputId": "ad27d3f4-f8d8-4f06-eb60-c722c1efb222"
      },
      "execution_count": null,
      "outputs": [
        {
          "output_type": "stream",
          "name": "stdout",
          "text": [
            "Addition of x and y:\n",
            " [[ 6  8]\n",
            " [10 13]]\n"
          ]
        }
      ]
    },
    {
      "cell_type": "markdown",
      "source": [
        "2. Subtract the two array."
      ],
      "metadata": {
        "id": "uzqCnJZhgK5W"
      }
    },
    {
      "cell_type": "code",
      "source": [
        "subtract_array = x - y\n",
        "print(\"Subtraction of x and y:\\n\", subtract_array)\n"
      ],
      "metadata": {
        "colab": {
          "base_uri": "https://localhost:8080/"
        },
        "id": "JO-kAUangTqp",
        "outputId": "0c542a05-0428-4299-8660-536cf4cd1dd6"
      },
      "execution_count": null,
      "outputs": [
        {
          "output_type": "stream",
          "name": "stdout",
          "text": [
            "Subtraction of x and y:\n",
            " [[-4 -4]\n",
            " [-4 -3]]\n"
          ]
        }
      ]
    },
    {
      "cell_type": "markdown",
      "source": [
        "3. Multiply the array with any integers of your choice."
      ],
      "metadata": {
        "id": "GAcmqDEQgWZu"
      }
    },
    {
      "cell_type": "code",
      "source": [
        "x_multiply = x * 4\n",
        "y_multiply = y * 5\n",
        "print(\"x multiplied by 2:\\n\", x_multiply, \"\\n\")\n",
        "print(\"y multiplied by 3:\\n\", y_multiply)"
      ],
      "metadata": {
        "colab": {
          "base_uri": "https://localhost:8080/"
        },
        "id": "q-CovH7wgZbH",
        "outputId": "f3268941-656a-4068-ab40-0e93864ea597"
      },
      "execution_count": null,
      "outputs": [
        {
          "output_type": "stream",
          "name": "stdout",
          "text": [
            "x multiplied by 2:\n",
            " [[ 4  8]\n",
            " [12 20]] \n",
            "\n",
            "y multiplied by 3:\n",
            " [[25 30]\n",
            " [35 40]]\n"
          ]
        }
      ]
    },
    {
      "cell_type": "markdown",
      "source": [
        "4. Find the square of each element of the array."
      ],
      "metadata": {
        "id": "uInmZgF0gdML"
      }
    },
    {
      "cell_type": "code",
      "source": [
        "a = np.square(x)\n",
        "b = np.square(y)\n",
        "print(\"Square of each element of x:\\n\", a, \"\\n\")\n",
        "print(\"Square of each element of y:\\n\", b)"
      ],
      "metadata": {
        "colab": {
          "base_uri": "https://localhost:8080/"
        },
        "id": "F7XX_yFSggkp",
        "outputId": "1c58b729-44d3-4186-8461-7e2011b5e9aa"
      },
      "execution_count": null,
      "outputs": [
        {
          "output_type": "stream",
          "name": "stdout",
          "text": [
            "Square of each element of x:\n",
            " [[ 1  4]\n",
            " [ 9 25]] \n",
            "\n",
            "Square of each element of y:\n",
            " [[25 36]\n",
            " [49 64]]\n"
          ]
        }
      ]
    },
    {
      "cell_type": "markdown",
      "source": [
        "5. Find the dot product between: v(and)w ; x(and)v ; x(and)y."
      ],
      "metadata": {
        "id": "xOyeNP5ygkkU"
      }
    },
    {
      "cell_type": "code",
      "source": [
        "dot_v_w = np.dot(v, w)\n",
        "dot_x_v = np.dot(x, v)\n",
        "dot_x_y = np.dot(x, y)\n",
        "\n",
        "print(\"Dot product of v and w:\", dot_v_w, \"\\n\")\n",
        "print(\"Dot product of x and v:\\n\", dot_x_v, \"\\n\")\n",
        "print(\"Dot product of x and y:\\n\", dot_x_y)\n"
      ],
      "metadata": {
        "colab": {
          "base_uri": "https://localhost:8080/"
        },
        "id": "imHXBLHfgnY8",
        "outputId": "383f77dd-aa6f-4230-9030-65ecd347d05c"
      },
      "execution_count": null,
      "outputs": [
        {
          "output_type": "stream",
          "name": "stdout",
          "text": [
            "Dot product of v and w: 219 \n",
            "\n",
            "Dot product of x and v:\n",
            " [29 77] \n",
            "\n",
            "Dot product of x and y:\n",
            " [[19 22]\n",
            " [50 58]]\n"
          ]
        }
      ]
    },
    {
      "cell_type": "markdown",
      "source": [
        "6. Concatenate x(and)y along row and Concatenate v(and)w along column.\n",
        "{Hint:try np.concatenate() or np.vstack() functions."
      ],
      "metadata": {
        "id": "b9ttCHjfgqHh"
      }
    },
    {
      "cell_type": "code",
      "source": [
        "concatenate_xy_rows = np.concatenate((x, y), axis=0)\n",
        "concatenate_vw_columns = np.concatenate((v.reshape(-1, 1), w.reshape(-1, 1)), axis=1)\n",
        "\n",
        "print(\"Concatenation of x and y along rows:\\n\", concatenate_xy_rows)\n",
        "print(\"Concatenation of v and w along columns:\\n\", concatenate_vw_columns)\n"
      ],
      "metadata": {
        "colab": {
          "base_uri": "https://localhost:8080/"
        },
        "id": "5ZKReGJggs-e",
        "outputId": "e3567b6a-4ad4-40ae-967c-5e6ff774ce21"
      },
      "execution_count": null,
      "outputs": [
        {
          "output_type": "stream",
          "name": "stdout",
          "text": [
            "Concatenation of x and y along rows:\n",
            " [[1 2]\n",
            " [3 5]\n",
            " [5 6]\n",
            " [7 8]]\n",
            "Concatenation of v and w along columns:\n",
            " [[ 9 11]\n",
            " [10 12]]\n"
          ]
        }
      ]
    },
    {
      "cell_type": "markdown",
      "source": [
        "7. Concatenate x(and)v; if you get an error, observe and explain why did you get the error?"
      ],
      "metadata": {
        "id": "K-5G4G1wgvuP"
      }
    },
    {
      "cell_type": "code",
      "source": [
        "try:\n",
        "    concatenated_x_v = np.concatenate((x, v), axis=0)\n",
        "    print(\"Concatenation of x and v:\\n\", concatenated_x_v)\n",
        "except Exception as e:\n",
        "    print(f\"Error: {e}\")\n"
      ],
      "metadata": {
        "colab": {
          "base_uri": "https://localhost:8080/"
        },
        "id": "2LCGUOAygyRx",
        "outputId": "678d9304-075d-4140-c915-07932d77d2d0"
      },
      "execution_count": null,
      "outputs": [
        {
          "output_type": "stream",
          "name": "stdout",
          "text": [
            "Error: all the input arrays must have same number of dimensions, but the array at index 0 has 2 dimension(s) and the array at index 1 has 1 dimension(s)\n"
          ]
        }
      ]
    },
    {
      "cell_type": "markdown",
      "source": [
        "#Problem - 4: Matrix Operations:"
      ],
      "metadata": {
        "id": "SiwLtpZFg1GZ"
      }
    },
    {
      "cell_type": "markdown",
      "source": [
        "• For the following arrays:\n",
        "A = np.array([[3,4],[7,8]]) and B = np.array([[5,3],[2,1]]);\n",
        "Prove following with Numpy:"
      ],
      "metadata": {
        "id": "2rgORb4Cg4Gg"
      }
    },
    {
      "cell_type": "code",
      "source": [
        "import numpy as np\n",
        "\n",
        "A = np.array([[3, 4], [7, 8]])\n",
        "B = np.array([[5, 3], [2, 1]])\n"
      ],
      "metadata": {
        "id": "OO6zbH-7g8gj"
      },
      "execution_count": null,
      "outputs": []
    },
    {
      "cell_type": "markdown",
      "source": [
        "Prove following with Numpy:\n",
        "1. Prove A.A−1 = I."
      ],
      "metadata": {
        "id": "VL8BJoTUhBeW"
      }
    },
    {
      "cell_type": "code",
      "source": [
        "# Compute the inverse of A\n",
        "A_inv = np.linalg.inv(A)\n",
        "# Multiply A with its inverse\n",
        "A_A_inv = np.dot(A, A_inv)\n",
        "# Print result\n",
        "print(\"A * A^-1:\\n\", A_A_inv)\n"
      ],
      "metadata": {
        "colab": {
          "base_uri": "https://localhost:8080/"
        },
        "id": "FWGdoT59hCW3",
        "outputId": "d12f3a07-a249-4848-a3c9-8a046b70eb20"
      },
      "execution_count": null,
      "outputs": [
        {
          "output_type": "stream",
          "name": "stdout",
          "text": [
            "A * A^-1:\n",
            " [[1.00000000e+00 0.00000000e+00]\n",
            " [1.77635684e-15 1.00000000e+00]]\n"
          ]
        }
      ]
    },
    {
      "cell_type": "markdown",
      "source": [
        "2. Prove AB ̸= BA."
      ],
      "metadata": {
        "id": "6sWavQr0hFVo"
      }
    },
    {
      "cell_type": "code",
      "source": [
        "# Compute AB and BA\n",
        "AB = np.dot(A, B)\n",
        "BA = np.dot(B, A)\n",
        "# Print results\n",
        "print(\"AB:\\n\", AB, \"\\n\")\n",
        "print(\"BA:\\n\", BA)\n",
        "# Check if AB is equal to BA\n",
        "print(\"Does AB equal to BA?\", np.array_equal(AB, BA))\n"
      ],
      "metadata": {
        "colab": {
          "base_uri": "https://localhost:8080/"
        },
        "id": "a4CVqlXEhJDo",
        "outputId": "1388e0c1-de23-4298-fa47-b1eb2cf9c309"
      },
      "execution_count": null,
      "outputs": [
        {
          "output_type": "stream",
          "name": "stdout",
          "text": [
            "AB:\n",
            " [[23 13]\n",
            " [51 29]] \n",
            "\n",
            "BA:\n",
            " [[36 44]\n",
            " [13 16]]\n",
            "Does AB equal to BA? False\n"
          ]
        }
      ]
    },
    {
      "cell_type": "markdown",
      "source": [
        "3. Prove (AB) T = B T A T"
      ],
      "metadata": {
        "id": "SGWLaiA4hLim"
      }
    },
    {
      "cell_type": "code",
      "source": [
        "# Compute (AB)^T\n",
        "AB_T = np.transpose(AB)\n",
        "# Compute B^T * A^T\n",
        "BT_AT = np.dot(np.transpose(B), np.transpose(A))\n",
        "# Print results\n",
        "print(\"(AB)^T:\\n\", AB_T, \"\\n\")\n",
        "print(\"B^T * A^T:\\n\", BT_AT)\n",
        "# Check if they are equal\n",
        "print(\"Does (AB)^T equal to B^T * A^T?\", np.array_equal(AB_T, BT_AT))\n"
      ],
      "metadata": {
        "colab": {
          "base_uri": "https://localhost:8080/"
        },
        "id": "UwaViFpYhOkN",
        "outputId": "55027c40-efc6-476e-8ed9-9df4c7cc67d8"
      },
      "execution_count": null,
      "outputs": [
        {
          "output_type": "stream",
          "name": "stdout",
          "text": [
            "(AB)^T:\n",
            " [[23 51]\n",
            " [13 29]] \n",
            "\n",
            "B^T * A^T:\n",
            " [[23 51]\n",
            " [13 29]]\n",
            "Does (AB)^T equal to B^T * A^T? True\n"
          ]
        }
      ]
    },
    {
      "cell_type": "markdown",
      "source": [
        "Solve the following system of Linear equation using Inverse Methods.\n",
        "\n",
        "2x − 3y + z = −1\n",
        "\n",
        "x − y + 2z = −3\n",
        "\n",
        "3x + y − z = 9\n",
        "\n",
        "{Hint: First use Numpy array to represent the equation in Matrix form. Then Solve for: AX = B}"
      ],
      "metadata": {
        "id": "uVo7QDxvhRnh"
      }
    },
    {
      "cell_type": "code",
      "source": [
        "# Define matrices\n",
        "A_matrix = np.array([[2, -3, 1], [1, -1, 2], [3, 1, -1]])\n",
        "B_matrix = np.array([-1, -3, 9])\n",
        "# Compute inverse of A\n",
        "A_inv_matrix = np.linalg.inv(A_matrix)\n",
        "# Solve for X\n",
        "X = np.dot(A_inv_matrix, B_matrix)\n",
        "# Print solution\n",
        "print(\"Solution for x, y, z:\", X)\n"
      ],
      "metadata": {
        "colab": {
          "base_uri": "https://localhost:8080/"
        },
        "id": "5E67tuZZhVQs",
        "outputId": "a764509d-2519-40a3-f693-2b11f1ca266e"
      },
      "execution_count": null,
      "outputs": [
        {
          "output_type": "stream",
          "name": "stdout",
          "text": [
            "Solution for x, y, z: [ 2.  1. -2.]\n"
          ]
        }
      ]
    }
  ]
}